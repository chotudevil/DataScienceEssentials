{
 "cells": [
  {
   "cell_type": "markdown",
   "metadata": {},
   "source": [
    "# Questions 1:\n",
    "Create a numpy array starting from 2 till 50 with a stepsize of 3.\n"
   ]
  },
  {
   "cell_type": "code",
   "execution_count": 8,
   "metadata": {},
   "outputs": [
    {
     "name": "stdout",
     "output_type": "stream",
     "text": [
      "[ 2  5  8 11 14 17 20 23 26 29 32 35 38 41 44 47 50]\n"
     ]
    }
   ],
   "source": [
    "import numpy as np\n",
    "arr = np.arange(2,51,3)\n",
    "print (arr)"
   ]
  },
  {
   "cell_type": "markdown",
   "metadata": {},
   "source": [
    "# Questions 2:\n",
    "Accept two lists of 5 elements each from the user.\n",
    "Convert them to numpy arrays. Concatenate these arrays and print it. Also sort these arrays and print it.\n"
   ]
  },
  {
   "cell_type": "code",
   "execution_count": 25,
   "metadata": {},
   "outputs": [
    {
     "name": "stdout",
     "output_type": "stream",
     "text": [
      "Enter List one Element :\n",
      "20\n",
      "10\n",
      "30\n",
      "80\n",
      "70\n",
      "Enter List Second Element :\n",
      "21\n",
      "41\n",
      "23\n",
      "74\n",
      "52\n",
      "\n",
      "[20 10 30 80 70]\n",
      "[21 41 23 74 52]\n",
      "[ 41  51  53 154 122]\n",
      "\n",
      "[ 41  51  53 122 154]\n"
     ]
    }
   ],
   "source": [
    "list1 = []\n",
    "list2 = []\n",
    "print(\"Enter List one Element :\")\n",
    "for i in range(5):\n",
    "    ele = int(input())\n",
    "    list1.append(ele)\n",
    "\n",
    "print(\"Enter List Second Element :\")\n",
    "for i in range(5):\n",
    "    ele = int(input())\n",
    "    list2.append(ele)\n",
    "    \n",
    "#convert list to numpy array\n",
    "arr1 = np.array(list1)\n",
    "arr2 = np.array(list2)\n",
    "arr3 = arr1 + arr2 \n",
    "\n",
    "print()\n",
    "print(arr1)\n",
    "print(arr2)\n",
    "print(arr3)\n",
    "\n",
    "#sorted array\n",
    "print()\n",
    "print(np.sort(arr3))\n"
   ]
  },
  {
   "cell_type": "markdown",
   "metadata": {},
   "source": [
    "# Questions 3:\n",
    "Write a code snippet to find the dimensions of a ndarray and its size."
   ]
  },
  {
   "cell_type": "code",
   "execution_count": 29,
   "metadata": {},
   "outputs": [
    {
     "name": "stdout",
     "output_type": "stream",
     "text": [
      "[[ 0  1  2  3]\n",
      " [ 4  5  6  7]\n",
      " [ 8  9 10 11]]\n",
      "2\n",
      "12\n"
     ]
    }
   ],
   "source": [
    "arr = np.arange(12).reshape((3,4))\n",
    "print(arr)\n",
    "\n",
    "#dimension of array\n",
    "print(arr.ndim)\n",
    "print(arr.size)"
   ]
  },
  {
   "cell_type": "markdown",
   "metadata": {},
   "source": [
    "# Questions 4:\n",
    "\n",
    "How to convert a 1D array into a 2D array? Demonstrate with the help of a code snippet\n",
    "Hint: np.newaxis, np.expand_dims"
   ]
  },
  {
   "cell_type": "code",
   "execution_count": 34,
   "metadata": {},
   "outputs": [
    {
     "name": "stdout",
     "output_type": "stream",
     "text": [
      "[[ 0  1  2]\n",
      " [ 3  4  5]\n",
      " [ 6  7  8]\n",
      " [ 9 10 11]]\n"
     ]
    }
   ],
   "source": [
    "\n",
    "oneD = np.arange(12).reshape((4,3))\n",
    "print(oneD)"
   ]
  },
  {
   "cell_type": "markdown",
   "metadata": {},
   "source": [
    "# Questions 5:\n",
    "Consider two square numpy arrays. Stack them vertically and horizontally.\n",
    "Hint: Use vstack(), hstack()\n"
   ]
  },
  {
   "cell_type": "code",
   "execution_count": 36,
   "metadata": {},
   "outputs": [
    {
     "name": "stdout",
     "output_type": "stream",
     "text": [
      "[[1 2 3 4]\n",
      " [5 6 7 8]]\n",
      "\n",
      "[1 2 3 4 5 6 7 8]\n"
     ]
    }
   ],
   "source": [
    "f = np.array([1,2,3,4])\n",
    "g = np.array([5,6,7,8])\n",
    "\n",
    "\n",
    "#vertically stack\n",
    "vst = np.vstack((f,g))\n",
    "print(vst)\n",
    "\n",
    "print()\n",
    "hst = np.hstack((f,g))\n",
    "print(hst)"
   ]
  },
  {
   "cell_type": "markdown",
   "metadata": {},
   "source": [
    "# Questions 6:\n",
    "How to get unique items and counts of unique items?"
   ]
  },
  {
   "cell_type": "code",
   "execution_count": 41,
   "metadata": {},
   "outputs": [
    {
     "name": "stdout",
     "output_type": "stream",
     "text": [
      "[[1 2]\n",
      " [2 2]\n",
      " [3 2]]\n"
     ]
    }
   ],
   "source": [
    "# getting unique items \n",
    "arr = [1, 1, 2, 2, 3, 3]\n",
    "np.unique(arr)\n",
    "\n",
    "\n",
    "#getting unique items count\n",
    "arr1 = [1, 1, 2, 2, 3, 3]\n",
    "unique_elements, counts_elements = np.unique(arr1, return_counts=True)\n",
    "frequencies = np.asarray((unique_elements , counts_elements)).T\n",
    "print(frequencies)"
   ]
  },
  {
   "cell_type": "code",
   "execution_count": null,
   "metadata": {},
   "outputs": [],
   "source": []
  }
 ],
 "metadata": {
  "kernelspec": {
   "display_name": "Python 3",
   "language": "python",
   "name": "python3"
  },
  "language_info": {
   "codemirror_mode": {
    "name": "ipython",
    "version": 3
   },
   "file_extension": ".py",
   "mimetype": "text/x-python",
   "name": "python",
   "nbconvert_exporter": "python",
   "pygments_lexer": "ipython3",
   "version": "3.8.3"
  }
 },
 "nbformat": 4,
 "nbformat_minor": 4
}
